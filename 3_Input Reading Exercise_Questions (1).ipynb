{
 "cells": [
  {
   "cell_type": "code",
   "execution_count": 3,
   "metadata": {},
   "outputs": [
    {
     "name": "stdout",
     "output_type": "stream",
     "text": [
      "60\n"
     ]
    }
   ],
   "source": [
    "# Write a program to hours to minutes , user should able to give hours as input\n",
    "\n",
    "# your Answer\n",
    "n=int(input())\n",
    "a=n*60\n",
    "print(a)\n",
    "\n"
   ]
  },
  {
   "cell_type": "code",
   "execution_count": 2,
   "metadata": {},
   "outputs": [
    {
     "name": "stdout",
     "output_type": "stream",
     "text": [
      "2.0\n"
     ]
    }
   ],
   "source": [
    "# Write a program to convert centimeter to meter , user shoulb be able to give centimeter as input\n",
    "\n",
    "# your Answer\n",
    "n=int(input())\n",
    "print(float(n))\n",
    "\n"
   ]
  },
  {
   "cell_type": "code",
   "execution_count": 4,
   "metadata": {},
   "outputs": [
    {
     "name": "stdout",
     "output_type": "stream",
     "text": [
      "16.0\n"
     ]
    }
   ],
   "source": [
    "# Write a program to convert miles to Kilometer , user shoulb be able to give miles as input\n",
    "\n",
    "# your Answer\n",
    "n=int(input())\n",
    "print(n*1.6)\n",
    "\n",
    "\n",
    "\n",
    "\n"
   ]
  },
  {
   "cell_type": "code",
   "execution_count": 5,
   "metadata": {},
   "outputs": [
    {
     "name": "stdout",
     "output_type": "stream",
     "text": [
      "4.535923700000001\n"
     ]
    }
   ],
   "source": [
    "# Write a program to convert pounds to Kilogram , user shoulb be able to give pounds as input\n",
    "\n",
    "# your Answer\n",
    "n=int(input())\n",
    "print(n*0.45359237)\n",
    "\n",
    "\n",
    "\n",
    "\n",
    "\n"
   ]
  },
  {
   "cell_type": "code",
   "execution_count": 7,
   "metadata": {},
   "outputs": [
    {
     "name": "stdout",
     "output_type": "stream",
     "text": [
      "170.0\n"
     ]
    }
   ],
   "source": [
    "# Write a program to calculate simple interest # all input shoulb be given by the user\n",
    "\n",
    "# your Answer\n",
    "p=int(input())\n",
    "r=int(input())\n",
    "t=int(input())\n",
    "a=(p*r*t)/100\n",
    "print(a)\n",
    "\n",
    "\n",
    "\n",
    "\n",
    "\n",
    "\n"
   ]
  },
  {
   "cell_type": "code",
   "execution_count": 8,
   "metadata": {},
   "outputs": [
    {
     "name": "stdout",
     "output_type": "stream",
     "text": [
      "113.04\n"
     ]
    }
   ],
   "source": [
    "# Write a program to calculate area of circle\n",
    "\n",
    "# your Answer\n",
    "r=int(input())\n",
    "print(3.14*(r*r))\n",
    "\n",
    "\n",
    "\n",
    "\n",
    "\n"
   ]
  },
  {
   "cell_type": "code",
   "execution_count": 9,
   "metadata": {},
   "outputs": [
    {
     "name": "stdout",
     "output_type": "stream",
     "text": [
      "37.68\n"
     ]
    }
   ],
   "source": [
    "# Write a program to calculate circumference of circle\n",
    "\n",
    "# your Answer\n",
    "r=int(input())\n",
    "print(2*3.14*r)\n",
    "\n",
    "\n",
    "\n",
    "\n",
    "\n",
    "\n"
   ]
  },
  {
   "cell_type": "code",
   "execution_count": 10,
   "metadata": {},
   "outputs": [
    {
     "name": "stdout",
     "output_type": "stream",
     "text": [
      "16\n"
     ]
    }
   ],
   "source": [
    "# Write a program to calculate perimeter of square\n",
    "\n",
    "# your Answer\n",
    "a=int(input())\n",
    "p=4*a\n",
    "print(p)\n",
    "\n",
    "\n",
    "\n",
    "\n",
    "\n"
   ]
  },
  {
   "cell_type": "code",
   "execution_count": 11,
   "metadata": {},
   "outputs": [
    {
     "name": "stdout",
     "output_type": "stream",
     "text": [
      "16\n"
     ]
    }
   ],
   "source": [
    "# Write a program to calculate area of square\n",
    "\n",
    "# your Answer\n",
    "a=int(input())\n",
    "print(a*a)\n",
    "\n",
    "\n",
    "\n",
    "\n",
    "\n"
   ]
  },
  {
   "cell_type": "code",
   "execution_count": 12,
   "metadata": {},
   "outputs": [
    {
     "name": "stdout",
     "output_type": "stream",
     "text": [
      "10.0\n"
     ]
    }
   ],
   "source": [
    "# Write a program to area of traingle\n",
    "\n",
    "# your Answer\n",
    "h=int(input())\n",
    "b=int(input())\n",
    "print((h+b)/2)\n"
   ]
  }
 ],
 "metadata": {
  "kernelspec": {
   "display_name": "Python 3",
   "language": "python",
   "name": "python3"
  },
  "language_info": {
   "codemirror_mode": {
    "name": "ipython",
    "version": 3
   },
   "file_extension": ".py",
   "mimetype": "text/x-python",
   "name": "python",
   "nbconvert_exporter": "python",
   "pygments_lexer": "ipython3",
   "version": "3.11.8"
  }
 },
 "nbformat": 4,
 "nbformat_minor": 2
}
